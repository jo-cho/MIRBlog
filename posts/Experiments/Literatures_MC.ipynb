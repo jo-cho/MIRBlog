{
 "cells": [
  {
   "cell_type": "raw",
   "id": "cc2af85d",
   "metadata": {},
   "source": [
    "---\n",
    "title: \"선행연구 조사 - 음악분류\"\n",
    "subtitle: \"Literatures - Music Classification\"\n",
    "author: \"Cheonghyo Cho\"\n",
    "date: \"2023-02-26\"\n",
    "categories: [선행연구, 장르, 분류]\n",
    "---"
   ]
  },
  {
   "cell_type": "markdown",
   "id": "81621424",
   "metadata": {},
   "source": [
    "*(..작성 수정중..)*\n",
    "\n",
    "**MIR Literatures - Music Classification**\n",
    "\n",
    ">이론보다는 실증 연구를 바탕으로 선행연구들을 직접 조사하였다. 음악 분류에는 분류(예측)하고자 하는 목표값(target or label)에 따라 장르, 아티스트, 가수 분류 등이 있다. 논문은 연도 순으로 정리되어 있으며, 연구에서 쓰이는 데이터, 피쳐, 모형, 성과지표를 함께 게재하였다. 각각 항목에 따라 주로 사용되는 것과 시간에 따른 추세를 확인할 수 있다.\n",
    "\n",
    "논문 제목을 클릭하면 해당 논문의 DOI 주소로 이동한다."
   ]
  },
  {
   "cell_type": "markdown",
   "id": "90c989ed",
   "metadata": {},
   "source": [
    "# 선행연구 조사"
   ]
  },
  {
   "cell_type": "markdown",
   "id": "44d86c6e",
   "metadata": {},
   "source": [
    "|논문|데이터|피쳐|타겟|모형|성과지표|\n",
    "|:--:|:--:|:--:|:--:|:--:|:--:|\n",
    "|[G. Tzanetakis and P. Cook (2002)](https://ieeexplore.ieee.org/abstract/document/1021072)|genre dataset|Spectrogram features, MFCC, ZC, low-energy, Beat-histogram, pitch contents|Genre|GMM, KNN|confusion matrix|\n",
    "|[M. Mandel and D.P. Ellis (2005)](https://academiccommons.columbia.edu/doi/10.7916/D8QV3WWQ)|uspop2002|MFCC|Artist|SVM, KNN|Accuracy|\n",
    "|[D.P. Ellis (2007)](https://academiccommons.columbia.edu/doi/10.7916/D8C255SD)|uspop2002|MFCC, Beat-Chroma|Artist|SVM|Accuracy|\n",
    "|[T. Langlois and G. Marques (2009)](https://citeseerx.ist.psu.edu/document?repid=rep1&type=pdf&doi=048fcd60d2047734aab38e78ac033951236b818d)|ISMIR 2004, artist20|MFCC|Genre, Aritist|GMM, K-means, NN|Accuracy, precision, recall, confusion matrix|\n",
    "|[M. Genussov and I. Cohen (2010)](https://ieeexplore.ieee.org/abstract/document/7096332)|GTZAN|Spectrogram features, MFCC, ZC, low-energy|Genre|KNN|confusion matrix|\n",
    "|[L. Su and Y.H. Yang (2012)](https://dblp.org/rec/conf/ismir/SuY13.html)|Train: uspop2002, MIR-1K, RWC, Test: artist20|Sprectrogram, Group Delay|Artist|SVM|Accuracy|\n"
   ]
  },
  {
   "cell_type": "markdown",
   "id": "b60c8e8d",
   "metadata": {},
   "source": [
    "# 추가 설명"
   ]
  },
  {
   "cell_type": "code",
   "execution_count": null,
   "id": "76a9594d",
   "metadata": {},
   "outputs": [],
   "source": []
  }
 ],
 "metadata": {
  "kernelspec": {
   "display_name": "Python 3 (ipykernel)",
   "language": "python",
   "name": "python3"
  },
  "language_info": {
   "codemirror_mode": {
    "name": "ipython",
    "version": 3
   },
   "file_extension": ".py",
   "mimetype": "text/x-python",
   "name": "python",
   "nbconvert_exporter": "python",
   "pygments_lexer": "ipython3",
   "version": "3.9.15"
  },
  "toc": {
   "base_numbering": 1,
   "nav_menu": {},
   "number_sections": true,
   "sideBar": true,
   "skip_h1_title": false,
   "title_cell": "Table of Contents",
   "title_sidebar": "Contents",
   "toc_cell": false,
   "toc_position": {},
   "toc_section_display": true,
   "toc_window_display": false
  }
 },
 "nbformat": 4,
 "nbformat_minor": 5
}
